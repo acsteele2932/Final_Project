{
 "cells": [
  {
   "cell_type": "code",
   "execution_count": 28,
   "metadata": {},
   "outputs": [
    {
     "data": {
      "text/plain": [
       "array(['Lincoln', 'Liberty', 'North Braddock', 'Lawrenceville 2',\n",
       "       'Parkway East', 'Liberty 2', 'Harrison Township', 'Lawrenceville',\n",
       "       'South Fayette', 'Avalon', 'Flag Plaza', 'Court House',\n",
       "       'Glassport High Street'], dtype=object)"
      ]
     },
     "execution_count": 28,
     "metadata": {},
     "output_type": "execute_result"
    }
   ],
   "source": [
    "import pandas as pd\n",
    "import numpy as np\n",
    "\n",
    "\n",
    "#to replace: air['col name'].replace({'old':'new'})\n",
    "# ppm.to_csv('name.csv') --> makes csv with 9 cols of only PPM vals\n",
    "\n",
    "# 1 ppm = 0.0001% = 1,0000 ug/m3\n",
    "# 1 ppb = 0.0000001%\n",
    "# 1 ng/m3 = 0.001 ug/m3\n",
    "\n",
    "\n",
    "# for percent:\n",
    "# PPM: div by 1,000\n",
    "# PPB div by 1,000,000\n",
    "# ug/m3 div by 1,000,000\n",
    "# ng/m3 div by 100,000,000\n",
    "\n",
    "\n",
    "air = pd.read_csv(\"air_quality.csv\", index_col= \"_id\")\n",
    "\n",
    "air['site'].replace({'Lawrenceville 2' : 'Lawrenceville'})\n",
    "air['site'].replace({'Liberty 2' : 'Liberty'})\n",
    "air['site'].replace({'South Fayette' : 'Allegheny'}) # also N. Braddock and Avalon\n",
    "\n",
    "ppm = air[(air['unit'] == 'PPM')]\n",
    "ppb = air[(air['unit'] == 'PPB')]\n",
    "percent = air[(air['unit'] == 'PERCENT')]\n",
    "ugm3 = air[(air['unit'] == 'UG/M3')]\n",
    "ngm3 = air[(air['unit'] == 'NG/M3')]\n",
    "\n",
    "WPRDC_list = ['Point Breeze North', 'Squirrel Hill North', 'Garfield', 'Bedford Dwellings', 'Knoxville', 'Homewood South', 'Middle Hill', \n",
    "            'Oakwood', 'North Oakland', 'Duquesne Heights', 'Glen Hazel', 'East Liberty', 'Westwood', 'Morningside', 'Lincoln Place', \n",
    "            'Perry North', 'Northview Heights', 'Homewood North', 'Arlington Heights', 'Lower Lawrenceville', 'Larimer', 'Lincoln-Lemmington-Belmar',\n",
    "             'Bluff', 'Fairwood', 'Brookline', 'Hays', 'Beltzhoover', 'Greenfield', 'East Carnegie', 'North Shore', 'Allentown', 'Bon Air',\n",
    "             'Allegheny West', 'Crafton Heights', 'Manchester', 'Marshall-Shadeland', 'Highland Park', 'New Homestead', 'Central Northside',\n",
    "             'Polish Hill', 'Overbrook', 'Friendship', 'Homewood West', 'Central Business District', 'East Allegheny', 'Central Oakland', \n",
    "             'Brighton Heights', 'South Side Slopes', 'Arlington', 'Chartiers City', 'Carrick', 'Bloomfield', 'Banksville', 'Mount Washington',\n",
    "             'East Hills', 'Central Lawrenceville', 'West End', 'Esplen', 'Point Breeze', 'Hazelwood', 'Crawford-Roberts', 'South Oakland',\n",
    "             'Upper Hill', 'Ridgemont', 'Troy Hill', 'South Shore', 'Mt. Oliver', 'California-Kirkbride', 'Sprint Hill-City View', 'Sheraden',\n",
    "             'Stanton Heights', 'Beechview', 'St. Clair', 'Chateau', 'Shadyside', 'Summer Hill', 'West Oakland', 'Windgap', 'Spring Garden',\n",
    "             'Squirrel Hill South', 'Strip District', 'Swisshelm Park', 'Perry South', 'Upper Lawrenceville', 'Regent Square', 'Terrance Village',\n",
    "             'Elliott', 'South Side Flats', 'Fineview']\n",
    "\n",
    "WPRDC_fuller_list = ['Point Breeze North', 'Squirrel Hill North', 'Garfield', 'Bedford Dwellings', 'Knoxville', 'Homewood South', 'Middle Hill', \n",
    "            'Oakwood', 'North Oakland', 'Duquesne Heights', 'Glen Hazel', 'East Liberty', 'Westwood', 'Morningside', 'Lincoln Place', \n",
    "            'Perry North', 'Northview Heights', 'Homewood North', 'Arlington Heights', 'Lower Lawrenceville', 'Larimer', 'Lincoln-Lemmington-Belmar',\n",
    "             'Bluff', 'Fairwood', 'Brookline', 'Hays', 'Beltzhoover', 'Greenfield', 'East Carnegie', 'North Shore', 'Allentown', 'Bon Air',\n",
    "             'Allegheny West', 'Crafton Heights', 'Manchester', 'Marshall-Shadeland', 'Highland Park', 'New Homestead', 'Central Northside',\n",
    "             'Polish Hill', 'Overbrook', 'Friendship', 'Homewood West', 'Central Business District', 'East Allegheny', 'Central Oakland', \n",
    "             'Brighton Heights', 'South Side Slopes', 'Arlington', 'Chartiers City', 'Carrick', 'Bloomfield', 'Banksville', 'Mount Washington',\n",
    "             'East Hills', 'Central Lawrenceville', 'West End', 'Esplen', 'Point Breeze', 'Hazelwood', 'Crawford-Roberts', 'South Oakland',\n",
    "             'Upper Hill', 'Ridgemont', 'Troy Hill', 'South Shore', 'Mt. Oliver', 'California-Kirkbride', 'Sprint Hill-City View', 'Sheraden',\n",
    "             'Stanton Heights', 'Beechview', 'St. Clair', 'Chateau', 'Shadyside', 'Summer Hill', 'West Oakland', 'Windgap', 'Spring Garden',\n",
    "             'Squirrel Hill South', 'Strip District', 'Swisshelm Park', 'Perry South', 'Upper Lawrenceville', 'Regent Square', 'Terrance Village',\n",
    "             'Elliott', 'South Side Flats', 'Fineview', 'Lawrenceville', 'Oakland', 'Squirrel Hill', 'Liberty', 'Allegheny']\n",
    "\n",
    "\n",
    "filtered_air = air[air['site'].isin(WPRDC_fuller_list)]\n",
    "\n",
    "#print(filtered_air.tail)\n",
    "\n",
    "air.site.unique()\n"
   ]
  },
  {
   "cell_type": "code",
   "execution_count": null,
   "metadata": {},
   "outputs": [],
   "source": []
  }
 ],
 "metadata": {
  "kernelspec": {
   "display_name": "Python 3",
   "language": "python",
   "name": "python3"
  },
  "language_info": {
   "codemirror_mode": {
    "name": "ipython",
    "version": 3
   },
   "file_extension": ".py",
   "mimetype": "text/x-python",
   "name": "python",
   "nbconvert_exporter": "python",
   "pygments_lexer": "ipython3",
   "version": "3.8.3"
  }
 },
 "nbformat": 4,
 "nbformat_minor": 4
}
